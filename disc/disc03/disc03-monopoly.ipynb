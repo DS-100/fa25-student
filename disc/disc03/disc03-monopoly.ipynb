{
 "cells": [
  {
   "cell_type": "markdown",
   "id": "113ab3ea-be48-4332-9192-c603148c8a67",
   "metadata": {},
   "source": [
    "# Discussion 3: Pandas + EDA exam prep\n",
    "\n",
    "This notebook contains the `income` and `properties` `DataFrame`s from the discussion 3 worksheet. These `DataFrame`s are completely made-up for teaching demonstration purposes."
   ]
  },
  {
   "cell_type": "markdown",
   "id": "a16d2847-6a07-4a0f-81c2-c04295ea96b3",
   "metadata": {},
   "source": [
    "It’s the annual Monopoly World Championship! The finalists: Shawn, Amanda, Neil, and Annie are playing Monopoly, a board game where players pay a price to buy properties, which can then generate income for them. Each property can be owned by only one player at a time. At the end of the game, the player with the most money wins. \n",
    "\n",
    "Shawn wants to figure out which properties are most worth buying. He creates a `DataFrame` called `income` with data on the current game state, shown on the left. He also finds a `DataFrame` called `properties` with data on Monopoly properties, shown on the right. Both tables have 28 rows. For brevity, only the first few rows of each `DataFrame` are shown.\n",
    "\n",
    "<div align=\"center\">\n",
    "    <img src = \"exam_prep1.png\" width = \"600\">"
   ]
  },
  {
   "cell_type": "code",
   "execution_count": 30,
   "id": "5ec628f3-3cb2-41e8-a336-a53ff0ef198a",
   "metadata": {},
   "outputs": [],
   "source": [
    "# Run this to read the DataFrames\n",
    "\n",
    "income = pd.read_csv(\"income.csv\")\n",
    "properties = pd.read_csv(\"properties.csv\")"
   ]
  },
  {
   "cell_type": "markdown",
   "id": "ff27cebf-2bde-437c-ac19-2ae001759d20",
   "metadata": {},
   "source": [
    "## Part C"
   ]
  },
  {
   "cell_type": "code",
   "execution_count": 16,
   "id": "30874027-2222-4d92-90df-0ab2d64326d8",
   "metadata": {},
   "outputs": [],
   "source": [
    "# income.groupby(\"Player\").count()\n",
    "# income.groupby(\"Player\").value_counts()\n",
    "# income[\"Player\", \"Property\"].groupby(\"Player\").size()\n",
    "# income.groupby(\"Player\").size()"
   ]
  },
  {
   "cell_type": "markdown",
   "id": "49a5591c-90e6-4966-b1b0-c7ee649608ae",
   "metadata": {},
   "source": [
    "## Part D"
   ]
  },
  {
   "cell_type": "code",
   "execution_count": null,
   "id": "03f27a0a-5092-42be-a498-1ffe501cc081",
   "metadata": {},
   "outputs": [],
   "source": []
  },
  {
   "cell_type": "markdown",
   "id": "c71c5805-0dd3-40af-a9bc-a6e375f93461",
   "metadata": {},
   "source": [
    "## Part E"
   ]
  },
  {
   "cell_type": "code",
   "execution_count": null,
   "id": "6dd69762-4e44-4f73-a05d-d7a010d6aa77",
   "metadata": {},
   "outputs": [],
   "source": [
    "combined_df = income._____(_______)"
   ]
  },
  {
   "cell_type": "code",
   "execution_count": null,
   "id": "b38dfc82-9a6b-4e83-ab6b-3db6d7191647",
   "metadata": {},
   "outputs": [],
   "source": [
    "income[\"Profit\"] = _______"
   ]
  },
  {
   "cell_type": "markdown",
   "id": "51627fd8-5388-4bd1-b809-1ea4135aef4d",
   "metadata": {},
   "source": [
    "## Part F"
   ]
  },
  {
   "cell_type": "code",
   "execution_count": null,
   "id": "cae1b1b2-dc62-402b-accd-60e2df4876cd",
   "metadata": {},
   "outputs": [],
   "source": [
    "def func(group:\n",
    "         ...\n",
    "         return"
   ]
  },
  {
   "cell_type": "code",
   "execution_count": null,
   "id": "0864fdfc-d09b-4559-b91f-3f3e75b09666",
   "metadata": {},
   "outputs": [],
   "source": [
    "merged_df._______"
   ]
  }
 ],
 "metadata": {
  "kernelspec": {
   "display_name": "Python 3 (ipykernel)",
   "language": "python",
   "name": "python3"
  },
  "language_info": {
   "codemirror_mode": {
    "name": "ipython",
    "version": 3
   },
   "file_extension": ".py",
   "mimetype": "text/x-python",
   "name": "python",
   "nbconvert_exporter": "python",
   "pygments_lexer": "ipython3",
   "version": "3.11.13"
  }
 },
 "nbformat": 4,
 "nbformat_minor": 5
}
